{
 "cells": [
  {
   "cell_type": "markdown",
   "id": "75672b9f-4f1c-43f1-946f-53bff8235a5f",
   "metadata": {},
   "source": [
    "# Qno:1) String Slicing : \n",
    "## used to access apart of the string within the specified range\n",
    "syntax : string[start : end : step]\n"
   ]
  },
  {
   "cell_type": "code",
   "execution_count": 1,
   "id": "c0c60b4b-6662-49f0-9ccb-2b3c4f20e8ab",
   "metadata": {},
   "outputs": [
    {
     "name": "stdout",
     "output_type": "stream",
     "text": [
      "Hello World!\n"
     ]
    }
   ],
   "source": [
    "#initialising the string\n",
    "s = \"Hello World!\"\n",
    "print(s)"
   ]
  },
  {
   "cell_type": "code",
   "execution_count": 2,
   "id": "5bc0f9bc-9b6b-4c4c-8fa1-37809965ed0e",
   "metadata": {},
   "outputs": [
    {
     "data": {
      "text/plain": [
       "'Hello World!'"
      ]
     },
     "execution_count": 2,
     "metadata": {},
     "output_type": "execute_result"
    }
   ],
   "source": [
    "s[::]"
   ]
  },
  {
   "cell_type": "code",
   "execution_count": 3,
   "id": "8fa7dbca-7b98-46ee-a1da-a83a427ae706",
   "metadata": {},
   "outputs": [
    {
     "data": {
      "text/plain": [
       "'!dlroW olleH'"
      ]
     },
     "execution_count": 3,
     "metadata": {},
     "output_type": "execute_result"
    }
   ],
   "source": [
    "s[::-1]"
   ]
  },
  {
   "cell_type": "code",
   "execution_count": 4,
   "id": "49b94925-cb80-48a7-9be3-03bdd417882e",
   "metadata": {},
   "outputs": [
    {
     "data": {
      "text/plain": [
       "'Hello World!'"
      ]
     },
     "execution_count": 4,
     "metadata": {},
     "output_type": "execute_result"
    }
   ],
   "source": [
    "s[::1]"
   ]
  },
  {
   "cell_type": "code",
   "execution_count": 5,
   "id": "ad7c9c2b-df76-4b6e-b1d2-bcc2c95bd890",
   "metadata": {},
   "outputs": [
    {
     "data": {
      "text/plain": [
       "'Hell'"
      ]
     },
     "execution_count": 5,
     "metadata": {},
     "output_type": "execute_result"
    }
   ],
   "source": [
    "s[0:4]"
   ]
  },
  {
   "cell_type": "code",
   "execution_count": 6,
   "id": "73fa4435-d691-4739-b52f-37fb8d3aa2a3",
   "metadata": {},
   "outputs": [
    {
     "data": {
      "text/plain": [
       "'lo '"
      ]
     },
     "execution_count": 6,
     "metadata": {},
     "output_type": "execute_result"
    }
   ],
   "source": [
    "s[3:6]"
   ]
  },
  {
   "cell_type": "code",
   "execution_count": 7,
   "id": "1c808ede-fbeb-4e4a-87c1-5eed0c30d47e",
   "metadata": {},
   "outputs": [
    {
     "data": {
      "text/plain": [
       "'el o'"
      ]
     },
     "execution_count": 7,
     "metadata": {},
     "output_type": "execute_result"
    }
   ],
   "source": [
    "s[1:9:2]"
   ]
  },
  {
   "cell_type": "code",
   "execution_count": 8,
   "id": "e0878027-655f-431e-99fb-0b5ddeb39937",
   "metadata": {},
   "outputs": [
    {
     "data": {
      "text/plain": [
       "'ld'"
      ]
     },
     "execution_count": 8,
     "metadata": {},
     "output_type": "execute_result"
    }
   ],
   "source": [
    "#negative indexing\n",
    "s[-3:-1]"
   ]
  },
  {
   "cell_type": "code",
   "execution_count": 9,
   "id": "86c87583-284c-41e3-8a92-c18510ff2115",
   "metadata": {},
   "outputs": [
    {
     "data": {
      "text/plain": [
       "'llo Wo'"
      ]
     },
     "execution_count": 9,
     "metadata": {},
     "output_type": "execute_result"
    }
   ],
   "source": [
    "s[-10:-4]"
   ]
  },
  {
   "cell_type": "code",
   "execution_count": 11,
   "id": "917ed5c0-fe25-4465-a8fd-7bc6606fbafe",
   "metadata": {},
   "outputs": [
    {
     "data": {
      "text/plain": [
       "'lW'"
      ]
     },
     "execution_count": 11,
     "metadata": {},
     "output_type": "execute_result"
    }
   ],
   "source": [
    "s[-10:-2:4]"
   ]
  },
  {
   "cell_type": "markdown",
   "id": "40924cf5-2702-4eff-a5b0-83ba4cc703e2",
   "metadata": {},
   "source": [
    "### Qno:3)Access List Items"
   ]
  },
  {
   "cell_type": "code",
   "execution_count": 13,
   "id": "2b7ce2c1-609c-475b-899f-7ddcdf955266",
   "metadata": {},
   "outputs": [
    {
     "name": "stdout",
     "output_type": "stream",
     "text": [
      "[1, 2, 'sai', (3+7j), 9.7]\n"
     ]
    }
   ],
   "source": [
    "# indexing\n",
    "l = [1,2,'sai',3+7j,9.7]\n",
    "print(l)"
   ]
  },
  {
   "cell_type": "code",
   "execution_count": 14,
   "id": "f5355414-71e0-497b-8422-9afe0fc8733f",
   "metadata": {},
   "outputs": [
    {
     "data": {
      "text/plain": [
       "1"
      ]
     },
     "execution_count": 14,
     "metadata": {},
     "output_type": "execute_result"
    }
   ],
   "source": [
    "l[0]"
   ]
  },
  {
   "cell_type": "code",
   "execution_count": 15,
   "id": "05dbfa97-20a4-4d37-83bf-900838fe1c38",
   "metadata": {},
   "outputs": [
    {
     "ename": "IndexError",
     "evalue": "list index out of range",
     "output_type": "error",
     "traceback": [
      "\u001b[0;31m---------------------------------------------------------------------------\u001b[0m",
      "\u001b[0;31mIndexError\u001b[0m                                Traceback (most recent call last)",
      "Cell \u001b[0;32mIn[15], line 1\u001b[0m\n\u001b[0;32m----> 1\u001b[0m \u001b[43ml\u001b[49m\u001b[43m[\u001b[49m\u001b[38;5;241;43m9\u001b[39;49m\u001b[43m]\u001b[49m\n",
      "\u001b[0;31mIndexError\u001b[0m: list index out of range"
     ]
    }
   ],
   "source": [
    "# l[9]"
   ]
  },
  {
   "cell_type": "code",
   "execution_count": 17,
   "id": "fd792795-8d6e-44ad-9da1-1d6864d27566",
   "metadata": {},
   "outputs": [
    {
     "data": {
      "text/plain": [
       "(3+7j)"
      ]
     },
     "execution_count": 17,
     "metadata": {},
     "output_type": "execute_result"
    }
   ],
   "source": [
    "l[-2]"
   ]
  },
  {
   "cell_type": "code",
   "execution_count": 18,
   "id": "97642980-a013-42cf-a95c-c3a597c66831",
   "metadata": {},
   "outputs": [
    {
     "data": {
      "text/plain": [
       "'sai'"
      ]
     },
     "execution_count": 18,
     "metadata": {},
     "output_type": "execute_result"
    }
   ],
   "source": [
    "l[-3]"
   ]
  },
  {
   "cell_type": "code",
   "execution_count": 20,
   "id": "b8b485b5-1e8c-400a-a21f-6df8734136ec",
   "metadata": {},
   "outputs": [
    {
     "data": {
      "text/plain": [
       "[1, 2, 'sai']"
      ]
     },
     "execution_count": 20,
     "metadata": {},
     "output_type": "execute_result"
    }
   ],
   "source": [
    "#slicing  : slicing in lists is same as string slicing  --list[start:end:step]\n",
    "l[0:3]\n"
   ]
  },
  {
   "cell_type": "code",
   "execution_count": 21,
   "id": "e68ddd3c-931b-4ab4-9077-7f39604f7f8b",
   "metadata": {},
   "outputs": [
    {
     "data": {
      "text/plain": [
       "[1, 'sai']"
      ]
     },
     "execution_count": 21,
     "metadata": {},
     "output_type": "execute_result"
    }
   ],
   "source": [
    "l[0:4:2]\n"
   ]
  },
  {
   "cell_type": "code",
   "execution_count": 22,
   "id": "3762f465-3940-4345-8076-0e9b455a0d45",
   "metadata": {},
   "outputs": [
    {
     "data": {
      "text/plain": [
       "['sai', (3+7j)]"
      ]
     },
     "execution_count": 22,
     "metadata": {},
     "output_type": "execute_result"
    }
   ],
   "source": [
    "l[-3:-1]"
   ]
  },
  {
   "cell_type": "code",
   "execution_count": 24,
   "id": "23486be9-b34a-46ee-9bb5-a860894653ca",
   "metadata": {},
   "outputs": [
    {
     "data": {
      "text/plain": [
       "[1, 2, 'sai', (3+7j), 9.7]"
      ]
     },
     "execution_count": 24,
     "metadata": {},
     "output_type": "execute_result"
    }
   ],
   "source": [
    "l[0:6] #though the index exceeds the length of the list it doesn't generate the error and prints upto the end of the list"
   ]
  },
  {
   "cell_type": "code",
   "execution_count": 27,
   "id": "292a2549-5a1a-4742-b0a7-f9693ddaa395",
   "metadata": {},
   "outputs": [
    {
     "data": {
      "text/plain": [
       "[1, 2, 'sai', (3+7j)]"
      ]
     },
     "execution_count": 27,
     "metadata": {},
     "output_type": "execute_result"
    }
   ],
   "source": [
    "l[-5:-1]"
   ]
  },
  {
   "cell_type": "code",
   "execution_count": 28,
   "id": "becd0018-38a0-4e60-8fd0-102da92a4010",
   "metadata": {},
   "outputs": [
    {
     "data": {
      "text/plain": [
       "[1, 2]"
      ]
     },
     "execution_count": 28,
     "metadata": {},
     "output_type": "execute_result"
    }
   ],
   "source": [
    "l[-7:-3]"
   ]
  },
  {
   "cell_type": "markdown",
   "id": "b726f71c-c554-4542-a052-cebcdfe86545",
   "metadata": {},
   "source": [
    "### modifying list Elements"
   ]
  },
  {
   "cell_type": "code",
   "execution_count": 29,
   "id": "2a29c333-3f30-4c60-bc65-2cf5d01484d5",
   "metadata": {},
   "outputs": [
    {
     "name": "stdout",
     "output_type": "stream",
     "text": [
      "[10, 20, 30, 40]\n"
     ]
    }
   ],
   "source": [
    "l = [10,20,30,40]\n",
    "print(l)"
   ]
  },
  {
   "cell_type": "code",
   "execution_count": 31,
   "id": "32fb03aa-a766-43ca-8f18-e79cf2802327",
   "metadata": {},
   "outputs": [
    {
     "name": "stdout",
     "output_type": "stream",
     "text": [
      "[10, 20, 100, 40]\n"
     ]
    }
   ],
   "source": [
    "#reassigning a value\n",
    "l[2] = 100\n",
    "print(l)"
   ]
  },
  {
   "cell_type": "code",
   "execution_count": 33,
   "id": "b7fcb8e5-66e0-489a-94e8-01a090e478fa",
   "metadata": {},
   "outputs": [
    {
     "name": "stdout",
     "output_type": "stream",
     "text": [
      "[12, 23, 100, 40]\n"
     ]
    }
   ],
   "source": [
    "#replacing multiple elements using slicing\n",
    "l[0:2] = [12,23]\n",
    "print(l)"
   ]
  },
  {
   "cell_type": "code",
   "execution_count": 2,
   "id": "7c2adbee-b5d8-45a7-accd-d0c4fc871293",
   "metadata": {},
   "outputs": [
    {
     "name": "stdout",
     "output_type": "stream",
     "text": [
      "[3, 6, 9, 12, 15]\n"
     ]
    }
   ],
   "source": [
    "#list comprehension\n",
    "my_list = [1,2,3,4,5]\n",
    "new_list = [i*3 for i in my_list]\n",
    "print(new_list)\n"
   ]
  },
  {
   "cell_type": "code",
   "execution_count": 3,
   "id": "cbadefe2-8e8d-4867-a93f-d674c05ac12f",
   "metadata": {},
   "outputs": [
    {
     "name": "stdout",
     "output_type": "stream",
     "text": [
      "[1, 2, 78, 3, 4, 5]\n"
     ]
    }
   ],
   "source": [
    "#inserting in the middle\n",
    "my_list.insert(2,78)\n",
    "print(my_list) #3 will be replaced by 78"
   ]
  },
  {
   "cell_type": "markdown",
   "id": "d6b5412b-d377-427d-9911-be3e87c43721",
   "metadata": {},
   "source": [
    "### Removing list Elements"
   ]
  },
  {
   "cell_type": "code",
   "execution_count": 15,
   "id": "fef4d5c3-7eed-4a02-a919-faff4385fd52",
   "metadata": {},
   "outputs": [
    {
     "name": "stdout",
     "output_type": "stream",
     "text": [
      "[1, 3, 2]\n"
     ]
    }
   ],
   "source": [
    "#remove()\n",
    "my_list = [1,2,3,2]\n",
    "my_list.remove(2) #reomves first occurence of 2\n",
    "print(my_list)"
   ]
  },
  {
   "cell_type": "code",
   "execution_count": 16,
   "id": "c1daffc0-ad7f-43cd-96b0-3d3018ed8fee",
   "metadata": {},
   "outputs": [
    {
     "data": {
      "text/plain": [
       "2"
      ]
     },
     "execution_count": 16,
     "metadata": {},
     "output_type": "execute_result"
    }
   ],
   "source": [
    "# pop()\n",
    "my_list.pop()"
   ]
  },
  {
   "cell_type": "code",
   "execution_count": 17,
   "id": "0a3e3330-b058-4f37-85d0-33a50d7c06a3",
   "metadata": {},
   "outputs": [
    {
     "name": "stdout",
     "output_type": "stream",
     "text": [
      "[1, 3]\n"
     ]
    }
   ],
   "source": [
    "print(my_list)"
   ]
  },
  {
   "cell_type": "code",
   "execution_count": 19,
   "id": "6b73912f-8f3e-4902-bb4f-b1ace52984c5",
   "metadata": {},
   "outputs": [
    {
     "data": {
      "text/plain": [
       "5"
      ]
     },
     "execution_count": 19,
     "metadata": {},
     "output_type": "execute_result"
    }
   ],
   "source": [
    "my_list.pop(1)"
   ]
  },
  {
   "cell_type": "code",
   "execution_count": 18,
   "id": "b3e5cc15-839b-4cdf-81d2-22ebf8412f71",
   "metadata": {},
   "outputs": [
    {
     "name": "stdout",
     "output_type": "stream",
     "text": [
      "[1, 5, 67]\n"
     ]
    }
   ],
   "source": [
    "#del\n",
    "my_list = [1,2,5,67]\n",
    "del my_list[1]\n",
    "print(my_list)"
   ]
  },
  {
   "cell_type": "code",
   "execution_count": 22,
   "id": "f1b790a2-218b-476f-9182-bfdaffb233e3",
   "metadata": {},
   "outputs": [
    {
     "name": "stdout",
     "output_type": "stream",
     "text": [
      "[]\n"
     ]
    }
   ],
   "source": [
    "#clear\n",
    "my_list.clear()\n",
    "print(my_list)"
   ]
  },
  {
   "cell_type": "markdown",
   "id": "a67932d1-276c-429b-880e-5f20255be1b9",
   "metadata": {},
   "source": [
    "### 5) Implementing Sets:\n"
   ]
  },
  {
   "cell_type": "code",
   "execution_count": 23,
   "id": "046e49b6-0533-4654-b643-581b378d0e93",
   "metadata": {},
   "outputs": [
    {
     "name": "stdout",
     "output_type": "stream",
     "text": [
      "{32, 67, 23, 74, 12, 45}\n"
     ]
    }
   ],
   "source": [
    "# key Features :\n",
    "#Unordered Collection\n",
    "my_set = {23,12,45,67,32,74}\n",
    "print(my_set)"
   ]
  },
  {
   "cell_type": "raw",
   "id": "2117a7fc-a036-4c95-b762-03179f40a991",
   "metadata": {},
   "source": [
    "look at the output the elements are not printed in the order i had given. It shows that sets are unordered.\n"
   ]
  },
  {
   "cell_type": "code",
   "execution_count": 24,
   "id": "d6358457-1d75-4440-aebb-fd7f538be928",
   "metadata": {},
   "outputs": [
    {
     "name": "stdout",
     "output_type": "stream",
     "text": [
      "{32, 67, 23, 74, 12, 45}\n"
     ]
    }
   ],
   "source": [
    "# Unique Elements : \n",
    "my_set = {12,23,12,45,67,32,74}\n",
    "print(my_set)"
   ]
  },
  {
   "cell_type": "raw",
   "id": "1d3218f5-d6e2-4888-85d8-2d3a660015dd",
   "metadata": {},
   "source": [
    "In the above example, I had given 12 twice but the set has accepted only one 12 and the other was discarded."
   ]
  },
  {
   "cell_type": "code",
   "execution_count": 25,
   "id": "2204ee64-3007-4a3e-a650-682bf5ea9272",
   "metadata": {},
   "outputs": [],
   "source": [
    "#mutable\n",
    "my_set = {12,43,56,85}\n",
    "my_set.add(67)"
   ]
  },
  {
   "cell_type": "code",
   "execution_count": 26,
   "id": "1d17bafa-3ab9-4a75-a6d1-19ae6ff8bdb7",
   "metadata": {},
   "outputs": [
    {
     "name": "stdout",
     "output_type": "stream",
     "text": [
      "{67, 43, 12, 85, 56}\n"
     ]
    }
   ],
   "source": [
    "print(my_set)"
   ]
  },
  {
   "cell_type": "code",
   "execution_count": 27,
   "id": "01129e97-8a5b-408b-b4e3-8bc1a805e7c4",
   "metadata": {},
   "outputs": [],
   "source": [
    "my_set.remove(56)"
   ]
  },
  {
   "cell_type": "code",
   "execution_count": 28,
   "id": "86308f38-39cd-490f-8ccd-34e89c67b667",
   "metadata": {},
   "outputs": [
    {
     "name": "stdout",
     "output_type": "stream",
     "text": [
      "{67, 43, 12, 85}\n"
     ]
    }
   ],
   "source": [
    "print(my_set)"
   ]
  },
  {
   "cell_type": "code",
   "execution_count": 29,
   "id": "9407a4b9-68cf-4bb2-a5b0-4971062a49f3",
   "metadata": {},
   "outputs": [
    {
     "name": "stdout",
     "output_type": "stream",
     "text": [
      "frozenset({65, 86, 43, 12, 31})\n"
     ]
    }
   ],
   "source": [
    "# Immutable set variant\n",
    "my_set = frozenset({12,43,65,31,86})\n",
    "print(my_set)\n"
   ]
  },
  {
   "cell_type": "code",
   "execution_count": 30,
   "id": "53d938fd-260b-4d58-927a-c19dd7ca9d7c",
   "metadata": {},
   "outputs": [
    {
     "ename": "AttributeError",
     "evalue": "'frozenset' object has no attribute 'add'",
     "output_type": "error",
     "traceback": [
      "\u001b[0;31m---------------------------------------------------------------------------\u001b[0m",
      "\u001b[0;31mAttributeError\u001b[0m                            Traceback (most recent call last)",
      "Cell \u001b[0;32mIn[30], line 1\u001b[0m\n\u001b[0;32m----> 1\u001b[0m \u001b[43mmy_set\u001b[49m\u001b[38;5;241;43m.\u001b[39;49m\u001b[43madd\u001b[49m(\u001b[38;5;241m10\u001b[39m)\n\u001b[1;32m      2\u001b[0m \u001b[38;5;28mprint\u001b[39m(my_set)\n",
      "\u001b[0;31mAttributeError\u001b[0m: 'frozenset' object has no attribute 'add'"
     ]
    }
   ],
   "source": [
    "\n",
    "my_set.add(10)\n",
    "print(my_set)"
   ]
  },
  {
   "cell_type": "raw",
   "id": "f0547f53-bacb-4c2a-ba8f-f734c11b1e97",
   "metadata": {},
   "source": [
    "the above code generated an error because frozenset is immutable"
   ]
  },
  {
   "cell_type": "code",
   "execution_count": 31,
   "id": "40df8862-db5f-40e4-b613-5bc0e6c3fcaa",
   "metadata": {},
   "outputs": [
    {
     "name": "stdout",
     "output_type": "stream",
     "text": [
      "9\n"
     ]
    }
   ],
   "source": [
    "#hashing is done to store set elements\n",
    "my_set = {12,43,2,65,34,9}\n",
    "print(hash(9))"
   ]
  },
  {
   "cell_type": "code",
   "execution_count": 32,
   "id": "d8bb78cf-c524-489b-a669-211ed95b3282",
   "metadata": {},
   "outputs": [
    {
     "name": "stdout",
     "output_type": "stream",
     "text": [
      "65\n"
     ]
    }
   ],
   "source": [
    "print(hash(65))"
   ]
  },
  {
   "cell_type": "code",
   "execution_count": 33,
   "id": "7beb2eee-93c4-463a-86ba-fbe1c2f1c030",
   "metadata": {},
   "outputs": [
    {
     "name": "stdout",
     "output_type": "stream",
     "text": [
      "True\n"
     ]
    }
   ],
   "source": [
    "#efficient membership test\n",
    "my_set = {34 , 43, 32,67,53,78}\n",
    "print(34 in my_set)"
   ]
  },
  {
   "cell_type": "code",
   "execution_count": 34,
   "id": "2bfba59d-4c66-4599-a6af-09d43a989153",
   "metadata": {},
   "outputs": [
    {
     "name": "stdout",
     "output_type": "stream",
     "text": [
      "False\n"
     ]
    }
   ],
   "source": [
    "print(34 not in my_set)"
   ]
  },
  {
   "cell_type": "markdown",
   "id": "c60f888c-7352-40dd-b054-3fa8df8e5a4f",
   "metadata": {},
   "source": [
    "# Qno 7) Accessing , Modifying ,Removing dictionary elements"
   ]
  },
  {
   "cell_type": "code",
   "execution_count": 8,
   "id": "a2dcc272-6db9-4a2e-a5c2-d01a51c3afc9",
   "metadata": {},
   "outputs": [
    {
     "name": "stdout",
     "output_type": "stream",
     "text": [
      "{1: 'one', 2: 'two', 3: 'three'}\n"
     ]
    }
   ],
   "source": [
    "#Accessing Dictionary Items\n",
    "dic = { 1 : 'one' , 2:'two',3:'three'}\n",
    "print(dic)"
   ]
  },
  {
   "cell_type": "code",
   "execution_count": 13,
   "id": "84331d42-d138-4581-a29b-a6440a7a90ad",
   "metadata": {},
   "outputs": [
    {
     "data": {
      "text/plain": [
       "dict_keys([1, 2, 3, 4, 5])"
      ]
     },
     "execution_count": 13,
     "metadata": {},
     "output_type": "execute_result"
    }
   ],
   "source": [
    "dic.keys()"
   ]
  },
  {
   "cell_type": "code",
   "execution_count": 14,
   "id": "40b70dfa-4f50-4e3b-839c-65e1a8a3ef1a",
   "metadata": {},
   "outputs": [
    {
     "data": {
      "text/plain": [
       "dict_values(['once', 'twice', 'thrice', 'fourth', 'five'])"
      ]
     },
     "execution_count": 14,
     "metadata": {},
     "output_type": "execute_result"
    }
   ],
   "source": [
    "dic.values()"
   ]
  },
  {
   "cell_type": "code",
   "execution_count": 15,
   "id": "5334f6d7-23eb-4a6d-841a-624bd264648d",
   "metadata": {},
   "outputs": [
    {
     "data": {
      "text/plain": [
       "dict_items([(1, 'once'), (2, 'twice'), (3, 'thrice'), (4, 'fourth'), (5, 'five')])"
      ]
     },
     "execution_count": 15,
     "metadata": {},
     "output_type": "execute_result"
    }
   ],
   "source": [
    "dic.items()"
   ]
  },
  {
   "cell_type": "code",
   "execution_count": 16,
   "id": "b6302d4c-3a89-42c9-8ca2-0efc59f64d6f",
   "metadata": {},
   "outputs": [
    {
     "data": {
      "text/plain": [
       "'thrice'"
      ]
     },
     "execution_count": 16,
     "metadata": {},
     "output_type": "execute_result"
    }
   ],
   "source": [
    "dic.get(3)"
   ]
  },
  {
   "cell_type": "code",
   "execution_count": 9,
   "id": "7aad73dd-f274-462c-8620-570026cdb6ff",
   "metadata": {},
   "outputs": [
    {
     "data": {
      "text/plain": [
       "'two'"
      ]
     },
     "execution_count": 9,
     "metadata": {},
     "output_type": "execute_result"
    }
   ],
   "source": [
    "dic[2]"
   ]
  },
  {
   "cell_type": "raw",
   "id": "091e7cc4-d72b-46be-b578-896152d1e26d",
   "metadata": {},
   "source": [
    "#Modification of dictionary items"
   ]
  },
  {
   "cell_type": "code",
   "execution_count": 10,
   "id": "44875513-b111-4339-be3c-7599ebe5f3de",
   "metadata": {},
   "outputs": [
    {
     "name": "stdout",
     "output_type": "stream",
     "text": [
      "{1: 'one', 2: 'two', 3: 'three', 4: 'four'}\n",
      "{1: 'once', 2: 'twice', 3: 'thrice', 4: 'fourth'}\n"
     ]
    }
   ],
   "source": [
    "#direct assignment\n",
    "dic[4] = 'four'\n",
    "print(dic)\n",
    "#update()\n",
    "dic.update({1:'once',2:'twice',3:'thrice',4:'fourth'})\n",
    "print(dic)"
   ]
  },
  {
   "cell_type": "code",
   "execution_count": 11,
   "id": "64cec342-f096-4368-a2eb-bf23788a6165",
   "metadata": {},
   "outputs": [
    {
     "name": "stdout",
     "output_type": "stream",
     "text": [
      "{1: 'once', 2: 'twice', 3: 'thrice', 4: 'fourth', 5: 'five'}\n"
     ]
    }
   ],
   "source": [
    "#setdefault()\n",
    "dic.setdefault(5,'five')\n",
    "print(dic)"
   ]
  },
  {
   "cell_type": "code",
   "execution_count": 12,
   "id": "cf99232b-2e43-47ad-8e6f-3731340a99ec",
   "metadata": {},
   "outputs": [
    {
     "data": {
      "text/plain": [
       "'thrice'"
      ]
     },
     "execution_count": 12,
     "metadata": {},
     "output_type": "execute_result"
    }
   ],
   "source": [
    "dic.setdefault(3,'three')\n"
   ]
  },
  {
   "cell_type": "code",
   "execution_count": 24,
   "id": "32464b73-89f9-4a41-8e94-174c8f7e8515",
   "metadata": {},
   "outputs": [
    {
     "name": "stdout",
     "output_type": "stream",
     "text": [
      "{2: 'two', 3: 'three', 4: 'four', 5: 'five'}\n"
     ]
    }
   ],
   "source": [
    "# Deleting dictionary items\n",
    "#del statement\n",
    "my_dict = { 1 : 'one' , 2:'two',3:'three',4:'four',5:'five'}\n",
    "del my_dict[1]\n",
    "print(my_dict)"
   ]
  },
  {
   "cell_type": "code",
   "execution_count": 25,
   "id": "b4b1520c-d94f-4322-a636-70afc4f8b998",
   "metadata": {},
   "outputs": [
    {
     "data": {
      "text/plain": [
       "'two'"
      ]
     },
     "execution_count": 25,
     "metadata": {},
     "output_type": "execute_result"
    }
   ],
   "source": [
    "#pop()\n",
    "my_dict.pop(2)"
   ]
  },
  {
   "cell_type": "code",
   "execution_count": 26,
   "id": "64fdddef-904f-4f01-a08e-c3e3f2dfdf1d",
   "metadata": {},
   "outputs": [
    {
     "data": {
      "text/plain": [
       "(5, 'five')"
      ]
     },
     "execution_count": 26,
     "metadata": {},
     "output_type": "execute_result"
    }
   ],
   "source": [
    "my_dict.popitem()"
   ]
  },
  {
   "cell_type": "code",
   "execution_count": 27,
   "id": "22fd131e-8d0e-402b-8096-d3de402560ca",
   "metadata": {},
   "outputs": [
    {
     "name": "stdout",
     "output_type": "stream",
     "text": [
      "{3: 'three', 4: 'four'}\n"
     ]
    }
   ],
   "source": [
    "print(my_dict)"
   ]
  },
  {
   "cell_type": "code",
   "execution_count": 28,
   "id": "e86031dc-9f01-47e1-bac3-59bf01469147",
   "metadata": {},
   "outputs": [],
   "source": [
    "my_dict.clear()"
   ]
  },
  {
   "cell_type": "code",
   "execution_count": 29,
   "id": "ab41a0c9-6402-4a4f-8aae-3cebafb771f0",
   "metadata": {},
   "outputs": [
    {
     "data": {
      "text/plain": [
       "{}"
      ]
     },
     "execution_count": 29,
     "metadata": {},
     "output_type": "execute_result"
    }
   ],
   "source": [
    "my_dict"
   ]
  },
  {
   "cell_type": "markdown",
   "id": "b99bd25e-525a-4d32-9bc8-d30d4488ba3b",
   "metadata": {},
   "source": [
    "# Qno 8)"
   ]
  },
  {
   "cell_type": "code",
   "execution_count": 30,
   "id": "41894ec0-cf25-4b7b-af3a-702f40cdb66a",
   "metadata": {},
   "outputs": [
    {
     "name": "stdout",
     "output_type": "stream",
     "text": [
      "{1: 'integer', (1, 2): 'Tuple_key', 'name': 'string'}\n"
     ]
    }
   ],
   "source": [
    "#Dictionary with immutable keys\n",
    "my_dict = { 1:'integer',\n",
    "           (1,2) : 'Tuple_key',\n",
    "           'name':'string'}\n",
    "print(my_dict)"
   ]
  },
  {
   "cell_type": "code",
   "execution_count": 31,
   "id": "9297fd36-64ea-481d-8446-a47bf2ec836e",
   "metadata": {},
   "outputs": [
    {
     "data": {
      "text/plain": [
       "'integer'"
      ]
     },
     "execution_count": 31,
     "metadata": {},
     "output_type": "execute_result"
    }
   ],
   "source": [
    "my_dict[1]"
   ]
  },
  {
   "cell_type": "code",
   "execution_count": 32,
   "id": "a217284f-0731-46eb-95a7-56d88eedb7a7",
   "metadata": {},
   "outputs": [
    {
     "data": {
      "text/plain": [
       "'Tuple_key'"
      ]
     },
     "execution_count": 32,
     "metadata": {},
     "output_type": "execute_result"
    }
   ],
   "source": [
    "my_dict[(1,2)]"
   ]
  },
  {
   "cell_type": "code",
   "execution_count": 34,
   "id": "c24e293a-e2c2-44e8-80a7-79a5a0a0ea51",
   "metadata": {},
   "outputs": [
    {
     "data": {
      "text/plain": [
       "'string'"
      ]
     },
     "execution_count": 34,
     "metadata": {},
     "output_type": "execute_result"
    }
   ],
   "source": [
    "my_dict['name']"
   ]
  },
  {
   "cell_type": "code",
   "execution_count": 35,
   "id": "c8928e8f-80f0-4ea0-a507-6150dc10a3a5",
   "metadata": {},
   "outputs": [
    {
     "ename": "TypeError",
     "evalue": "unhashable type: 'list'",
     "output_type": "error",
     "traceback": [
      "\u001b[0;31m---------------------------------------------------------------------------\u001b[0m",
      "\u001b[0;31mTypeError\u001b[0m                                 Traceback (most recent call last)",
      "Cell \u001b[0;32mIn[35], line 2\u001b[0m\n\u001b[1;32m      1\u001b[0m \u001b[38;5;66;03m# Mutable types as keys\u001b[39;00m\n\u001b[0;32m----> 2\u001b[0m my_dict \u001b[38;5;241m=\u001b[39m { [\u001b[38;5;241m1\u001b[39m,\u001b[38;5;241m2\u001b[39m]:\u001b[38;5;124m'\u001b[39m\u001b[38;5;124mlist key\u001b[39m\u001b[38;5;124m'\u001b[39m}\n\u001b[1;32m      3\u001b[0m \u001b[38;5;28mprint\u001b[39m(my_dict)\n",
      "\u001b[0;31mTypeError\u001b[0m: unhashable type: 'list'"
     ]
    }
   ],
   "source": [
    "# Mutable types as keys\n",
    "my_dict = { [1,2]:'list key'}\n",
    "print(my_dict)"
   ]
  },
  {
   "cell_type": "raw",
   "id": "8782a0a4-1b6e-4598-b39f-70fb82d66a53",
   "metadata": {},
   "source": [
    "Using mutables as keys will generate an error."
   ]
  }
 ],
 "metadata": {
  "kernelspec": {
   "display_name": "Python 3 (ipykernel)",
   "language": "python",
   "name": "python3"
  },
  "language_info": {
   "codemirror_mode": {
    "name": "ipython",
    "version": 3
   },
   "file_extension": ".py",
   "mimetype": "text/x-python",
   "name": "python",
   "nbconvert_exporter": "python",
   "pygments_lexer": "ipython3",
   "version": "3.10.8"
  }
 },
 "nbformat": 4,
 "nbformat_minor": 5
}
